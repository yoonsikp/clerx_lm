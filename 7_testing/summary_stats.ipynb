{
 "cells": [
  {
   "cell_type": "code",
   "execution_count": 1,
   "id": "a918d273",
   "metadata": {},
   "outputs": [],
   "source": [
    "import numpy as np\n",
    "import pandas as pd\n",
    "import itertools"
   ]
  },
  {
   "cell_type": "code",
   "execution_count": 2,
   "id": "e9eddb2a",
   "metadata": {
    "scrolled": false
   },
   "outputs": [],
   "source": [
    "top_3_validation = []\n",
    "with open(\"../6_validation/top_3.txt\") as top_file:\n",
    "    for line in top_file.readlines():\n",
    "        line = line.strip()\n",
    "        split_line = line.split(\",\")\n",
    "        top_3 = [int(seed.lstrip(\" \").strip(\"'\")) for seed in line.split(\"[\")[1].rstrip(\"]\").split(\",\")]\n",
    "        top_3_validation.append([split_line[0], split_line[1] == \"True\", split_line[2], top_3])"
   ]
  },
  {
   "cell_type": "code",
   "execution_count": 3,
   "id": "52cff029",
   "metadata": {},
   "outputs": [],
   "source": [
    "entity_stats = pd.read_csv(\"entity_stats.csv\")\n",
    "relation_stats = pd.read_csv(\"relation_stats.csv\")\n",
    "jer_stats = pd.read_csv(\"jer_stats.csv\")"
   ]
  },
  {
   "cell_type": "code",
   "execution_count": 4,
   "id": "4bcd84b5",
   "metadata": {
    "scrolled": true
   },
   "outputs": [
    {
     "name": "stdout",
     "output_type": "stream",
     "text": [
      "Index(['model', 'no_context', 'type', 'seed', 'label_name', 'prec', 'recall',\n",
      "       'f1', 'support'],\n",
      "      dtype='object')\n",
      "Index(['model', 'no_context', 'type', 'seed', 'sentence_id', 'mcc', 'acc',\n",
      "       'prec', 'recall', 'f1'],\n",
      "      dtype='object')\n",
      "Index(['model', 'no_context', 'type', 'seed', 'sentence_id',\n",
      "       'jaccard_similarity', 'intersect', 'union'],\n",
      "      dtype='object')\n"
     ]
    }
   ],
   "source": [
    "print(entity_stats.columns)\n",
    "print(relation_stats.columns)\n",
    "print(jer_stats.columns)"
   ]
  },
  {
   "cell_type": "code",
   "execution_count": 5,
   "id": "7241ea47",
   "metadata": {},
   "outputs": [],
   "source": [
    "# pandas std alrady does bessel correction"
   ]
  },
  {
   "cell_type": "code",
   "execution_count": 6,
   "id": "edd955fd",
   "metadata": {},
   "outputs": [],
   "source": [
    "entity_labels = [\"OUTCOME_VAR\", \"EXPL_VAR\", \"BASELINE\", \"RR\", \"HR\", \"OR\", \"micro avg\"]\n",
    "final_entity_results = None\n",
    "for experiment in top_3_validation:\n",
    "    experiment_type = experiment[2]\n",
    "    if experiment_type == \"r\":\n",
    "        experiment_type = \"e\" \n",
    "    experiment_ent = entity_stats[(entity_stats[\"model\"]==experiment[0])\n",
    "             & (entity_stats[\"no_context\"]==(experiment[1]))\n",
    "            & (entity_stats[\"type\"]==experiment_type)]\n",
    "    filtered_ent = experiment_ent[experiment_ent[\"seed\"].isin(experiment[3])]\n",
    "    \n",
    "        \n",
    "    results = (filtered_ent.groupby(\"label_name\").agg(['mean', 'std'])[['prec', 'recall', 'f1']])\n",
    "    results.columns = ['_'.join(col).rstrip(_) for col in results.columns.values]\n",
    "    results['model'] = experiment[0]\n",
    "    results[\"no_context\"]= experiment[1]\n",
    "    results[\"type\"]= experiment_type\n",
    "    results[\"id\"] = f\"{experiment[0]} {experiment[1]} {experiment_type}\"\n",
    "    if final_entity_results is None:\n",
    "        final_entity_results = results\n",
    "    else:\n",
    "        final_entity_results = pd.concat([final_entity_results, results],axis=0)"
   ]
  },
  {
   "cell_type": "code",
   "execution_count": 7,
   "id": "77773512",
   "metadata": {},
   "outputs": [],
   "source": [
    "final_relation_results = None\n",
    "for experiment in top_3_validation:\n",
    "    experiment_type = experiment[2]\n",
    "    experiment_rel = relation_stats[(relation_stats[\"model\"]==experiment[0])\n",
    "             & (relation_stats[\"no_context\"]==(experiment[1]))\n",
    "            & (relation_stats[\"sentence_id\"]==\"AGGREGATE\")\n",
    "            & (relation_stats[\"type\"]==experiment_type)]\n",
    "    filtered_ent = experiment_rel[experiment_rel[\"seed\"].isin(experiment[3])]\n",
    "    results = (filtered_ent.agg(['mean', 'std'])[['mcc', 'acc', 'prec', 'recall', 'f1']])\n",
    "    results = results.stack().to_frame().T\n",
    "    results.columns = results.columns.to_flat_index()\n",
    "    \n",
    "    results.columns = ['_'.join(col[::-1]).rstrip(_) for col in results.columns.values]\n",
    "    results['model'] = experiment[0]\n",
    "    results[\"no_context\"]= experiment[1]\n",
    "    results[\"type\"]= experiment_type\n",
    "    results[\"id\"] = f\"{experiment[0]} {experiment[1]} {experiment_type}\"\n",
    "    if final_relation_results is None:\n",
    "        final_relation_results = results\n",
    "    else:\n",
    "        final_relation_results = pd.concat([final_relation_results, results],axis=0)\n"
   ]
  },
  {
   "cell_type": "code",
   "execution_count": 8,
   "id": "91288f0d",
   "metadata": {},
   "outputs": [],
   "source": [
    "final_jer_results = None\n",
    "for experiment in top_3_validation:\n",
    "    experiment_type = experiment[2]\n",
    "    experiment_jer = jer_stats[(jer_stats[\"model\"]==experiment[0])\n",
    "             & (jer_stats[\"no_context\"]==(experiment[1]))\n",
    "            & (jer_stats[\"sentence_id\"]==\"AGGREGATE\")\n",
    "            & (jer_stats[\"type\"]==experiment_type)]\n",
    "    filtered_jer = experiment_jer[experiment_jer[\"seed\"].isin(experiment[3])]\n",
    "    results = (filtered_jer.agg(['mean', 'std'])[['jaccard_similarity']])\n",
    "    results = results.stack().to_frame().T\n",
    "    results.columns = results.columns.to_flat_index()\n",
    "    \n",
    "    results.columns = ['_'.join(col[::-1]).rstrip(_) for col in results.columns.values]\n",
    "    results['model'] = experiment[0]\n",
    "    results[\"no_context\"]= experiment[1]\n",
    "    results[\"type\"]= experiment_type\n",
    "    results[\"id\"] = f\"{experiment[0]} {experiment[1]} {experiment_type}\"\n",
    "    if final_jer_results is None:\n",
    "        final_jer_results = results\n",
    "    else:\n",
    "        final_jer_results = pd.concat([final_jer_results, results],axis=0)\n"
   ]
  },
  {
   "cell_type": "code",
   "execution_count": 9,
   "id": "38c300e0",
   "metadata": {},
   "outputs": [],
   "source": [
    "final_entity_results.to_csv('ent_summary.csv')\n",
    "final_relation_results.to_csv('rel_summary.csv', index=False)\n",
    "final_jer_results.to_csv('jer_summary.csv', index=False)"
   ]
  }
 ],
 "metadata": {
  "kernelspec": {
   "display_name": "Python 3",
   "language": "python",
   "name": "python3"
  },
  "language_info": {
   "codemirror_mode": {
    "name": "ipython",
    "version": 3
   },
   "file_extension": ".py",
   "mimetype": "text/x-python",
   "name": "python",
   "nbconvert_exporter": "python",
   "pygments_lexer": "ipython3",
   "version": "3.8.6"
  }
 },
 "nbformat": 4,
 "nbformat_minor": 5
}
